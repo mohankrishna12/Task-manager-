{
  "nbformat": 4,
  "nbformat_minor": 0,
  "metadata": {
    "colab": {
      "provenance": [],
      "authorship_tag": "ABX9TyOJyog0kWYlokG9x6Yv9txP",
      "include_colab_link": true
    },
    "kernelspec": {
      "name": "python3",
      "display_name": "Python 3"
    },
    "language_info": {
      "name": "python"
    }
  },
  "cells": [
    {
      "cell_type": "markdown",
      "metadata": {
        "id": "view-in-github",
        "colab_type": "text"
      },
      "source": [
        "<a href=\"https://colab.research.google.com/github/mohankrishna12/Task-manager-/blob/main/Task_manager.ipynb\" target=\"_parent\"><img src=\"https://colab.research.google.com/assets/colab-badge.svg\" alt=\"Open In Colab\"/></a>"
      ]
    },
    {
      "cell_type": "code",
      "execution_count": null,
      "metadata": {
        "colab": {
          "base_uri": "https://localhost:8080/"
        },
        "id": "OLbXYaveiJMB",
        "outputId": "19239a0c-cb51-40f9-d277-f79ed7a619b3"
      },
      "outputs": [
        {
          "output_type": "stream",
          "name": "stdout",
          "text": [
            "\n",
            "Simple Task Manager\n",
            "1. Add Task\n",
            "2. List Tasks\n",
            "3. Mark Task as Done\n",
            "4. Exit\n"
          ]
        }
      ],
      "source": [
        "def show_menu():\n",
        "    print(\"\\nSimple Task Manager\")\n",
        "    print(\"1. Add Task\")\n",
        "    print(\"2. List Tasks\")\n",
        "    print(\"3. Mark Task as Done\")\n",
        "    print(\"4. Exit\")\n",
        "\n",
        "def add_task(tasks):\n",
        "    title = input(\"Enter task title: \").strip()\n",
        "    if title:\n",
        "        tasks.append({\"title\": title, \"status\": \"pending\"})\n",
        "        print(f\"Task '{title}' added.\")\n",
        "    else:\n",
        "        print(\"Task title cannot be empty.\")\n",
        "\n",
        "def list_tasks(tasks):\n",
        "    if not tasks:\n",
        "        print(\"No tasks added yet.\")\n",
        "        return\n",
        "    for i, task in enumerate(tasks, start=1):\n",
        "        print(f\"{i}. {task['title']} [{task['status']}]\")\n",
        "\n",
        "def mark_task_done(tasks):\n",
        "    if not tasks:\n",
        "        print(\"No tasks to mark as done.\")\n",
        "        return\n",
        "    list_tasks(tasks)\n",
        "    try:\n",
        "        task_num = int(input(\"Enter task number to mark as done: \"))\n",
        "        if 1 <= task_num <= len(tasks):\n",
        "            tasks[task_num - 1][\"status\"] = \"done\"\n",
        "            print(f\"Task '{tasks[task_num - 1]['title']}' marked as done.\")\n",
        "        else:\n",
        "            print(\"Invalid task number.\")\n",
        "    except ValueError:\n",
        "        print(\"Please enter a valid number.\")\n",
        "\n",
        "def main():\n",
        "    tasks = []\n",
        "    while True:\n",
        "        show_menu()\n",
        "        choice = input(\"Choose an option (1-4): \")\n",
        "        if choice == '1':\n",
        "            add_task(tasks)\n",
        "        elif choice == '2':\n",
        "            list_tasks(tasks)\n",
        "        elif choice == '3':\n",
        "            mark_task_done(tasks)\n",
        "        elif choice == '4':\n",
        "            print(\"Exiting. Goodbye!\")\n",
        "            break\n",
        "        else:\n",
        "            print(\"Invalid option. Please select 1-4.\")\n",
        "\n",
        "if __name__ == \"__main__\":\n",
        "    main()"
      ]
    }
  ]
}